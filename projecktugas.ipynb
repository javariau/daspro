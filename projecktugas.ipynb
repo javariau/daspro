{
 "cells": [
  {
   "cell_type": "code",
   "execution_count": null,
   "id": "9080b6dd-19d2-4871-89fe-4c6dc14eb7df",
   "metadata": {},
   "outputs": [],
   "source": []
  },
  {
   "cell_type": "code",
   "execution_count": 1,
   "id": "a3a9f28e-0d23-4bb7-b4ad-1a6304598dcf",
   "metadata": {},
   "outputs": [],
   "source": [
    "def tambah_mahasiswa():\n",
    "    id_mahasiswa = int(input(\"masukan id mahasiswa:\"))\n",
    "    nama_masahsiswa = input(\"masukan nama mahasiswa:\")\n",
    "    alamat_mahaiswa = input(\"masukan alamat mahasiswa:\")\n",
    "    kelas_mahasiswa = input(\"masukan kelas(Ti243/ti24) mahasiswa:\")\n",
    "    \n",
    "    if validasi_input(nim,nama,alamat,kelas,):\n",
    "        data_mahasiswa.append({\n",
    "            \"nim\" : 'nim',\n",
    "            \"nama\" : \"nama\",\n",
    "            \"alamat\": \"alamat\",\n",
    "            \"kelas\" : \"kelas\"\n",
    "        })\n",
    "        print(\"data mahasiswa berhasil ditambahkan\")"
   ]
  },
  {
   "cell_type": "code",
   "execution_count": null,
   "id": "ca4567b5-90c3-4310-99f7-3a446d9e91b5",
   "metadata": {},
   "outputs": [
    {
     "name": "stdout",
     "output_type": "stream",
     "text": [
      "\n",
      "=== MENU DATA MAHASISWA ===\n",
      "1. Tambah Data Mahasiswa\n",
      "2. Tampilkan Data Mahasiswa\n",
      "3. Keluar\n"
     ]
    },
    {
     "name": "stdin",
     "output_type": "stream",
     "text": [
      "Pilih menu (1-3):  2\n"
     ]
    },
    {
     "name": "stdout",
     "output_type": "stream",
     "text": [
      "\u001b[H\u001b[2J\n",
      "=== DATA MAHASISWA ===\n",
      "\n",
      "File data tidak ditemukan. Silakan tambahkan data terlebih dahulu.\n"
     ]
    },
    {
     "name": "stdin",
     "output_type": "stream",
     "text": [
      "\n",
      "Tekan Enter untuk melanjutkan... \n"
     ]
    },
    {
     "name": "stdout",
     "output_type": "stream",
     "text": [
      "\n",
      "=== MENU DATA MAHASISWA ===\n",
      "1. Tambah Data Mahasiswa\n",
      "2. Tampilkan Data Mahasiswa\n",
      "3. Keluar\n"
     ]
    },
    {
     "name": "stdin",
     "output_type": "stream",
     "text": [
      "Pilih menu (1-3):  1\n"
     ]
    },
    {
     "name": "stdout",
     "output_type": "stream",
     "text": [
      "\u001b[H\u001b[2J\n",
      "=== TAMBAH DATA MAHASISWA ===\n"
     ]
    },
    {
     "name": "stdin",
     "output_type": "stream",
     "text": [
      "NIM (11 digit):  JAVARIAU BINTANG\n",
      "NAMA (min 6 karakter):  1234567\n",
      "ALAMAT (min 10 karakter):  ROKANHULU RIAU\n",
      "KELAS (TI23/TI24):  TI24\n"
     ]
    },
    {
     "name": "stdout",
     "output_type": "stream",
     "text": [
      "\n",
      "Error Validasi:\n",
      "- NIM harus terdiri dari 11 digit angka\n",
      "\n",
      "Silakan coba lagi.\n"
     ]
    },
    {
     "name": "stdin",
     "output_type": "stream",
     "text": [
      "NIM (11 digit):  123445667788665\n",
      "NAMA (min 6 karakter):  BINSMILLAH \n",
      "ALAMAT (min 10 karakter):  SKDLFJDSLGKJFLKDG\n",
      "KELAS (TI23/TI24):  TI24\n"
     ]
    },
    {
     "name": "stdout",
     "output_type": "stream",
     "text": [
      "\n",
      "Error Validasi:\n",
      "- NIM harus terdiri dari 11 digit angka\n",
      "\n",
      "Silakan coba lagi.\n"
     ]
    },
    {
     "name": "stdin",
     "output_type": "stream",
     "text": [
      "NIM (11 digit):  123456789101\n",
      "NAMA (min 6 karakter):  QWERRT\n",
      "ALAMAT (min 10 karakter):  ASDFKGJRTN\n",
      "KELAS (TI23/TI24):  TI24\n"
     ]
    },
    {
     "name": "stdout",
     "output_type": "stream",
     "text": [
      "\n",
      "Error Validasi:\n",
      "- NIM harus terdiri dari 11 digit angka\n",
      "\n",
      "Silakan coba lagi.\n"
     ]
    },
    {
     "name": "stdin",
     "output_type": "stream",
     "text": [
      "NIM (11 digit):  12345678910\n",
      "NAMA (min 6 karakter):  DFKJSDFDGAFDGDF\n",
      "ALAMAT (min 10 karakter):  DSFGHT\n",
      "KELAS (TI23/TI24):  TI24\n"
     ]
    },
    {
     "name": "stdout",
     "output_type": "stream",
     "text": [
      "\n",
      "Error Validasi:\n",
      "- ALAMAT minimal harus 10 karakter\n",
      "\n",
      "Silakan coba lagi.\n"
     ]
    },
    {
     "name": "stdin",
     "output_type": "stream",
     "text": [
      "NIM (11 digit):  12345678920\n",
      "NAMA (min 6 karakter):  JAVARI\n",
      "ALAMAT (min 10 karakter):  CISAATBOJO\n",
      "KELAS (TI23/TI24):  TI24\n"
     ]
    },
    {
     "name": "stdout",
     "output_type": "stream",
     "text": [
      "\n",
      "Data mahasiswa berhasil ditambahkan!\n"
     ]
    },
    {
     "name": "stdin",
     "output_type": "stream",
     "text": [
      "\n",
      "Tekan Enter untuk melanjutkan... \n"
     ]
    },
    {
     "name": "stdout",
     "output_type": "stream",
     "text": [
      "\n",
      "=== MENU DATA MAHASISWA ===\n",
      "1. Tambah Data Mahasiswa\n",
      "2. Tampilkan Data Mahasiswa\n",
      "3. Keluar\n"
     ]
    },
    {
     "name": "stdin",
     "output_type": "stream",
     "text": [
      "Pilih menu (1-3):  2\n"
     ]
    },
    {
     "name": "stdout",
     "output_type": "stream",
     "text": [
      "\u001b[H\u001b[2J\n",
      "=== DATA MAHASISWA ===\n",
      "\n",
      "Daftar Mahasiswa:\n",
      "======================================================================\n",
      "No.  NIM            NAMA                ALAMAT              KELAS     \n",
      "======================================================================\n",
      "1    12345678920    JAVARI              CISAATBOJO          TI24      \n",
      "======================================================================\n"
     ]
    }
   ],
   "source": [
    "import os\n",
    "\n",
    "def clear_screen():\n",
    "    os.system('cls' if os.name == 'nt' else 'clear')\n",
    "\n",
    "def display_menu():\n",
    "    print(\"\\n=== MENU DATA MAHASISWA ===\")\n",
    "    print(\"1. Tambah Data Mahasiswa\")\n",
    "    print(\"2. Tampilkan Data Mahasiswa\")\n",
    "    print(\"3. Keluar\")\n",
    "    return input(\"Pilih menu (1-3): \")\n",
    "\n",
    "def validate_input(nim, nama, alamat, kelas):\n",
    "    errors = []\n",
    "    \n",
    "    # Validasi NIM harus 11 digit\n",
    "    if not nim.isdigit() or len(nim) != 11:\n",
    "        errors.append(\"NIM harus terdiri dari 11 digit angka\")\n",
    "    \n",
    "    # Validasi NAMA minimal 6 karakter\n",
    "    if len(nama) < 6:\n",
    "        errors.append(\"NAMA minimal harus 6 karakter\")\n",
    "    \n",
    "    # Validasi ALAMAT minimal 10 karakter\n",
    "    if len(alamat) < 10:\n",
    "        errors.append(\"ALAMAT minimal harus 10 karakter\")\n",
    "    \n",
    "    # Validasi KELAS hanya TI23 atau TI24\n",
    "    if kelas not in [\"TI23\", \"TI24\"]:\n",
    "        errors.append(\"KELAS hanya boleh 'TI23' atau 'TI24'\")\n",
    "    \n",
    "    return errors\n",
    "\n",
    "def add_student():\n",
    "    clear_screen()\n",
    "    print(\"\\n=== TAMBAH DATA MAHASISWA ===\")\n",
    "    \n",
    "    while True:\n",
    "        nim = input(\"NIM (11 digit): \")\n",
    "        nama = input(\"NAMA (min 6 karakter): \")\n",
    "        alamat = input(\"ALAMAT (min 10 karakter): \")\n",
    "        kelas = input(\"KELAS (TI23/TI24): \").upper()\n",
    "        \n",
    "        validation_errors = validate_input(nim, nama, alamat, kelas)\n",
    "        \n",
    "        if validation_errors:\n",
    "            print(\"\\nError Validasi:\")\n",
    "            for error in validation_errors:\n",
    "                print(f\"- {error}\")\n",
    "            print(\"\\nSilakan coba lagi.\")\n",
    "            continue\n",
    "        \n",
    "        try:\n",
    "            with open(\"data_mahasiswa.txt\", \"a\") as file:\n",
    "                file.write(f\"{nim},{nama},{alamat},{kelas}\\n\")\n",
    "            print(\"\\nData mahasiswa berhasil ditambahkan!\")\n",
    "            break\n",
    "        except IOError as e:\n",
    "            print(f\"\\nError: Gagal menyimpan data ke file. {e}\")\n",
    "            break\n",
    "\n",
    "def display_students():\n",
    "    clear_screen()\n",
    "    print(\"\\n=== DATA MAHASISWA ===\\n\")\n",
    "    \n",
    "    try:\n",
    "        with open(\"data_mahasiswa.txt\", \"r\") as file:\n",
    "            students = file.readlines()\n",
    "            \n",
    "            if not students:\n",
    "                print(\"Belum ada data mahasiswa.\")\n",
    "                return\n",
    "            \n",
    "            print(\"Daftar Mahasiswa:\")\n",
    "            print(\"=\"*70)\n",
    "            print(f\"{'No.':<5}{'NIM':<15}{'NAMA':<20}{'ALAMAT':<20}{'KELAS':<10}\")\n",
    "            print(\"=\"*70)\n",
    "            \n",
    "            for i, student in enumerate(students, 1):\n",
    "                try:\n",
    "                    nim, nama, alamat, kelas = student.strip().split(',')\n",
    "                    print(f\"{i:<5}{nim:<15}{nama:<20}{alamat:<20}{kelas:<10}\")\n",
    "                except ValueError:\n",
    "                    print(f\"Error: Format data tidak valid pada baris {i}\")\n",
    "            \n",
    "            print(\"=\"*70)\n",
    "    except FileNotFoundError:\n",
    "        print(\"File data tidak ditemukan. Silakan tambahkan data terlebih dahulu.\")\n",
    "    except IOError as e:\n",
    "        print(f\"Error: Gagal membaca data. {e}\")\n",
    "\n",
    "def main():\n",
    "    while True:\n",
    "        choice = display_menu()\n",
    "        \n",
    "        if choice == \"1\":\n",
    "            add_student()\n",
    "        elif choice == \"2\":\n",
    "            display_students()\n",
    "        elif choice == \"3\":\n",
    "            print(\"\\nTerima kasih! Program selesai.\")\n",
    "            break\n",
    "        else:\n",
    "            print(\"\\nPilihan tidak valid. Silakan pilih 1-3.\")\n",
    "        \n",
    "        input(\"\\nTekan Enter untuk melanjutkan...\")\n",
    "\n",
    "if __name__ == \"__main__\":\n",
    "    main()"
   ]
  },
  {
   "cell_type": "code",
   "execution_count": null,
   "id": "6b67deab-6fa7-43b1-85c7-738dc4716987",
   "metadata": {},
   "outputs": [],
   "source": []
  }
 ],
 "metadata": {
  "kernelspec": {
   "display_name": "Python 3 (ipykernel)",
   "language": "python",
   "name": "python3"
  },
  "language_info": {
   "codemirror_mode": {
    "name": "ipython",
    "version": 3
   },
   "file_extension": ".py",
   "mimetype": "text/x-python",
   "name": "python",
   "nbconvert_exporter": "python",
   "pygments_lexer": "ipython3",
   "version": "3.10.9"
  }
 },
 "nbformat": 4,
 "nbformat_minor": 5
}
