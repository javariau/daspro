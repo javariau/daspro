{
 "cells": [
  {
   "cell_type": "code",
   "execution_count": 15,
   "id": "03ff8d54-9216-4d70-bea3-9a20150cb663",
   "metadata": {},
   "outputs": [
    {
     "name": "stdout",
     "output_type": "stream",
     "text": [
      "Program Manipulasi String\n",
      "1. Reverse per kata\n",
      "2. Urutkan kalimat\n",
      "3. Ganti huruf vokal\n"
     ]
    },
    {
     "name": "stdin",
     "output_type": "stream",
     "text": [
      "Pilih fungsi (1/2/3):  2\n",
      "Masukkan kalimat:  jangan makan disini\n",
      "Masukkan urutan (pisahkan dengan spasi, contoh: 5 1 4 3 2):  3 1 2\n"
     ]
    },
    {
     "name": "stdout",
     "output_type": "stream",
     "text": [
      "Hasil: disini jangan makan\n"
     ]
    }
   ],
   "source": [
    "\n",
    "def reverse_per_kata(kalimat):\n",
    "   \n",
    "    kata_kata = kalimat.split()\n",
    "    kata_terbalik = [kata[::-1] for kata in kata_kata]\n",
    "    return ' '.join(kata_terbalik)\n",
    "\n",
    "\n",
    "def urutkan_kalimat(kalimat, urutan):\n",
    "   \n",
    "    kata_kata = kalimat.split()\n",
    "    try:\n",
    "        kalimat_terurut = [kata_kata[i-1] for i in urutan]\n",
    "    except IndexError:\n",
    "        return \"Error: Indeks dalam urutan melebihi jumlah kata\"\n",
    "    return ' '.join(kalimat_terurut)\n",
    "\n",
    "\n",
    "def ganti_vokal(kalimat, opsi):\n",
    "   \n",
    "    vokal_kecil = {'a': '4', 'i': '1', 'u': '[_]', 'e': '3', 'o': '0'}\n",
    "    vokal_kapital = {'A': '4', 'I': '1', 'U': '[_]', 'E': '3', 'O': '0'}\n",
    "    \n",
    "    hasil = []\n",
    "    for karakter in kalimat:\n",
    "        if opsi == 1 and karakter in vokal_kecil:\n",
    "            hasil.append(vokal_kecil[karakter])\n",
    "        elif opsi == 2 and karakter in vokal_kapital:\n",
    "            hasil.append(vokal_kapital[karakter])\n",
    "        else:\n",
    "            hasil.append(karakter)\n",
    "    return ''.join(hasil)\n",
    "\n",
    "\n",
    "if __name__ == \"__main__\":\n",
    "    print(\"Program Manipulasi String\")\n",
    "    print(\"1. Reverse per kata\")\n",
    "    print(\"2. Urutkan kalimat\")\n",
    "    print(\"3. Ganti huruf vokal\")\n",
    "    pilihan = input(\"Pilih fungsi (1/2/3): \")\n",
    "    \n",
    "    if pilihan == '1':\n",
    "        kalimat = input(\"Masukkan kalimat: \")\n",
    "        print(\"Hasil:\", reverse_per_kata(kalimat))\n",
    "    elif pilihan == '2':\n",
    "        kalimat = input(\"Masukkan kalimat: \")\n",
    "        urutan_str = input(\"Masukkan urutan (pisahkan dengan spasi, contoh: 5 1 4 3 2): \")\n",
    "        urutan = list(map(int, urutan_str.split()))\n",
    "        print(\"Hasil:\", urutkan_kalimat(kalimat, urutan))\n",
    "    elif pilihan == '3':\n",
    "        kalimat = input(\"Masukkan kalimat: \")\n",
    "        opsi = int(input(\"Pilih opsi (1 untuk vokal kecil, 2 untuk vokal kapital): \"))\n",
    "        print(\"Hasil:\", ganti_vokal(kalimat, opsi))\n",
    "    else:\n",
    "        print(\"Pilihan tidak valid\")"
   ]
  },
  {
   "cell_type": "code",
   "execution_count": null,
   "id": "701a99bf-48c6-4dfb-8675-53b0756db33f",
   "metadata": {},
   "outputs": [],
   "source": []
  }
 ],
 "metadata": {
  "kernelspec": {
   "display_name": "Python 3 (ipykernel)",
   "language": "python",
   "name": "python3"
  },
  "language_info": {
   "codemirror_mode": {
    "name": "ipython",
    "version": 3
   },
   "file_extension": ".py",
   "mimetype": "text/x-python",
   "name": "python",
   "nbconvert_exporter": "python",
   "pygments_lexer": "ipython3",
   "version": "3.10.9"
  }
 },
 "nbformat": 4,
 "nbformat_minor": 5
}
